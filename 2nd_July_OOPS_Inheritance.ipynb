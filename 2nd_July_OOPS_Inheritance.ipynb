{
 "cells": [
  {
   "cell_type": "markdown",
   "id": "3e7bf108",
   "metadata": {},
   "source": [
    "1. Explain what inheritance is in object-oriented programming and why it is used.\n",
    "\n",
    "In object-oriented programming, inheritance is a mechanism that allows classes to inherit properties and behaviors from other classes. It is one of the fundamental concepts of object-oriented programming and facilitates code reuse and the creation of hierarchical relationships between classes.\n",
    "\n",
    "Inheritance works by defining a new class, known as the derived class or subclass, based on an existing class, called the base class or superclass. The derived class inherits all the non-private members (attributes and methods) of the base class, including its fields, properties, and methods. This means that the derived class automatically has access to and can use the inherited members as if they were defined within the derived class itself.\n",
    "\n",
    "The primary purpose of inheritance is to promote code reuse and establish an \"is-a\" relationship between classes. By defining a base class with common attributes and behaviors, you can create specialized classes (subclasses) that inherit those common elements while also adding their own unique attributes or behaviors. This allows you to avoid duplicating code and promote modular design.\n",
    "\n",
    "Overall, inheritance is used to establish relationships between classes, enable code reuse, and promote a modular and flexible design approach in object-oriented programming."
   ]
  },
  {
   "cell_type": "markdown",
   "id": "13ca1e4b",
   "metadata": {},
   "source": [
    "2. Discuss the concept of single inheritance and multiple inheritance, highlighting their differences and advantages.\n",
    "\n",
    "In object-oriented programming, single inheritance and multiple inheritance are two different approaches to class inheritance, each with its own characteristics and advantages.\n",
    "\n",
    "1. Single Inheritance:\n",
    "   Single inheritance refers to the concept of a class inheriting from only one base class. In this approach, a derived class extends or specializes the functionality of a single base class. The derived class inherits all the attributes and behaviors of the base class and can add its own unique attributes or behaviors.\n",
    "\n",
    "   Advantages of Single Inheritance:\n",
    "   - Simplicity: Single inheritance is conceptually simpler to understand and implement. It follows a straightforward hierarchical structure, where each class has a single parent class.\n",
    "   - Reduced complexity: With single inheritance, there is no ambiguity or conflicts that can arise from inheriting multiple sets of attributes and behaviors from different classes.\n",
    "   - Encourages code reuse: Single inheritance promotes code reuse by allowing the derived class to inherit and utilize the attributes and methods of the base class.\n",
    "\n",
    "2. Multiple Inheritance:\n",
    "   Multiple inheritance is a feature that allows a class to inherit from multiple base classes. In this approach, a derived class can inherit attributes and behaviors from multiple parent classes. The derived class incorporates and combines the features of all the base classes.\n",
    "\n",
    "   Advantages of Multiple Inheritance:\n",
    "   - Increased flexibility: Multiple inheritance allows a class to inherit and combine features from multiple base classes, enabling more diverse and flexible class relationships.\n",
    "   - Code reuse: With multiple inheritance, a class can inherit and reuse code from multiple base classes, promoting code reuse and reducing redundant implementation.\n",
    "   - Modeling complex relationships: Multiple inheritance can be useful for modeling complex relationships and structures where a class requires features from multiple sources.\n",
    "\n",
    "   However, multiple inheritance can introduce certain challenges and potential issues:\n",
    "   - Diamond problem: One common issue in multiple inheritance is the diamond problem, which occurs when a derived class inherits from two or more classes that have a common base class. This can lead to ambiguity when resolving method or attribute conflicts between the base classes.\n",
    "   - Increased complexity: Multiple inheritance can make code more complex and harder to understand, as it involves managing and resolving potential conflicts or ambiguities between the inherited attributes and methods from different base classes.\n",
    "   - Design considerations: Multiple inheritance requires careful design and consideration to ensure that the class hierarchy and relationships are well-defined and do not lead to confusion or conflicts.\n",
    "\n",
    "The choice between single inheritance and multiple inheritance depends on the specific requirements of the problem domain. Single inheritance offers simplicity and straightforwardness, while multiple inheritance provides greater flexibility and code reuse opportunities. It's important to weigh the advantages and potential complexities when deciding which approach to use in a particular scenario.\n"
   ]
  },
  {
   "cell_type": "markdown",
   "id": "2b0cd6f1",
   "metadata": {},
   "source": [
    "3. Explain the terms \"base class\" and \"derived class\" in the context of inheritance.\n",
    "\n",
    "In the context of inheritance in object-oriented programming, the terms \"base class\" and \"derived class\" refer to the classes involved in the inheritance relationship.\n",
    "\n",
    "1. Base Class:\n",
    "   A base class, also known as a superclass or parent class, is the class from which other classes inherit properties and behaviors. It serves as the foundation or starting point for inheritance. The base class defines common attributes and methods that can be shared by multiple derived classes. It encapsulates the common functionality and establishes a template for the derived classes to build upon. The base class is not affected by any modifications or additions made in the derived classes.\n",
    "\n",
    "2. Derived Class:\n",
    "   A derived class, also known as a subclass or child class, is a class that inherits properties and behaviors from a base class. It extends or specializes the functionality of the base class by adding its own unique attributes or behaviors or by modifying existing ones. The derived class has access to all the non-private members (attributes and methods) of the base class, which it can use and override as necessary. It can also add new members specific to its own requirements. Multiple derived classes can be created from a single base class, each with its own modifications or extensions.\n",
    "\n",
    "The relationship between a base class and a derived class is often referred to as an \"is-a\" relationship. It signifies that the derived class \"is a\" specialized type of the base class, inheriting its common characteristics while adding its own specific features. The derived class inherits the attributes and behaviors of the base class and can utilize or modify them according to its needs.\n"
   ]
  },
  {
   "cell_type": "markdown",
   "id": "51c4fd92",
   "metadata": {},
   "source": [
    "4. What is the significance of the \"protected\" access modifier in inheritance? How does it differ from \"private\" and \"public\" modifiers?\n",
    "\n",
    "In inheritance, the \"protected\" access modifier plays a significant role in controlling the visibility and accessibility of class members (attributes and methods) within the inheritance hierarchy. It is an access level that has specific implications and differs from the \"private\" and \"public\" modifiers.\n",
    "\n",
    "Here are the key characteristics and differences between the \"protected,\" \"private,\" and \"public\" access modifiers:\n",
    "\n",
    "1. \"private\" Access Modifier:\n",
    "   - Members marked as \"private\" are only accessible within the same class where they are declared. They are not accessible by derived classes or other classes.\n",
    "   - \"private\" members are encapsulated and hidden from the outside world, allowing the class to have control over its internal implementation details.\n",
    "   - They are useful for maintaining data integrity and enforcing encapsulation principles within a class.\n",
    "\n",
    "2. \"protected\" Access Modifier:\n",
    "   - Members marked as \"protected\" are accessible within the same class, derived classes, and other classes in the same package or assembly (depending on the programming language).\n",
    "   - The \"protected\" modifier provides a middle ground between \"private\" and \"public\" by allowing derived classes to access the member while still restricting access from unrelated classes.\n",
    "   - It enables derived classes to inherit and use the member, providing a level of visibility for shared functionality or data among related classes.\n",
    "\n",
    "3. \"public\" Access Modifier:\n",
    "   - Members marked as \"public\" are accessible from anywhere, including the class where they are declared, derived classes, and other classes outside the hierarchy.\n",
    "   - \"public\" members have the highest level of visibility, and they can be accessed and used by any part of the program.\n",
    "   - They are suitable for providing a public interface to the class, allowing other classes to interact with and utilize the member's functionality.\n",
    "\n",
    "In the context of inheritance, the \"protected\" access modifier is particularly useful when you want to make certain members available to derived classes while still restricting access from unrelated classes. It allows the derived classes to access and utilize the member, enabling code reuse and facilitating the implementation of shared behavior or data across related classes. The \"protected\" modifier strikes a balance between encapsulation and accessibility within the inheritance hierarchy.\n"
   ]
  },
  {
   "cell_type": "markdown",
   "id": "cb06b81e",
   "metadata": {},
   "source": [
    "5. What is the purpose of the \"super\" keyword in inheritance? Provide an example.\n",
    "\n",
    "In Python, the \"super\" keyword is used to refer to the superclass or parent class in inheritance. It allows derived classes to access and invoke the methods and attributes of the superclass. The \"super\" keyword is used to explicitly call the superclass's methods or constructors.\n",
    "\n",
    "Here's an example to illustrate the purpose of the \"super\" keyword in Python inheritance:\n",
    "\n",
    "class Vehicle:\n",
    "    def __init__(self, brand):\n",
    "        self.brand = brand\n",
    "\n",
    "    def start(self):\n",
    "        print(\"Starting the vehicle.\")\n",
    "\n",
    "class Car(Vehicle):\n",
    "    def __init__(self, brand, num_of_doors):\n",
    "        super().__init__(brand)  # invoking the superclass constructor using \"super\"\n",
    "        self.num_of_doors = num_of_doors\n",
    "\n",
    "    def start(self):\n",
    "        super().start()  # invoking the superclass method using \"super\"\n",
    "        print(\"Car engine started.\")\n",
    "\n",
    "    def display_info(self):\n",
    "        print(\"Brand:\", super().brand)  # accessing the superclass attribute using \"super\"\n",
    "        print(\"Number of doors:\", self.num_of_doors)\n",
    "\n",
    "\n",
    "car = Car(\"Toyota\", 4)\n",
    "car.start()\n",
    "car.display_info()\n",
    "\n",
    "In this example, we have a superclass called `Vehicle` and a derived class called `Car`. The superclass has an attribute `brand` and a method `start()`. The derived class adds its own attribute `num_of_doors` and overrides the `start()` method.\n",
    "\n",
    "Inside the constructor of the `Car` class, `super().__init__(brand)` invokes the superclass's constructor, passing the `brand` argument. This allows the `Car` class to initialize the `brand` attribute inherited from the `Vehicle` class.\n",
    "\n",
    "In the `start()` method of the `Car` class, `super().start()` invokes the `start()` method of the superclass. This ensures that the superclass behavior is preserved while adding additional functionality specific to the `Car` class.\n",
    "\n",
    "In the `display_info()` method of the `Car` class, `super().brand` accesses the `brand` attribute of the superclass, allowing the derived class to access the inherited attribute.\n",
    "\n",
    "The \"super\" keyword in Python simplifies and clarifies the use of inheritance, allowing derived classes to call and extend the behavior of their superclass while providing access to inherited attributes and methods."
   ]
  },
  {
   "cell_type": "markdown",
   "id": "7b272c77",
   "metadata": {},
   "source": [
    "6. Create a base class called \"Vehicle\" with attributes like \"make\", \"model\", and \"year\". Then, create a derived class called \"Car\" that inherits from \"Vehicle\" and adds an attribute called \"fuel_type\". Implement appropriate methods in both classes."
   ]
  },
  {
   "cell_type": "code",
   "execution_count": 2,
   "id": "a6739530",
   "metadata": {},
   "outputs": [
    {
     "name": "stdout",
     "output_type": "stream",
     "text": [
      "Starting the vehicle.\n",
      "Car engine started.\n",
      "Make: Ford\n",
      "Model: Figo\n",
      "Year: 2012\n",
      "Fuel Type: Diesel\n"
     ]
    }
   ],
   "source": [
    "# Solution to question 6:\n",
    "class Vehicle:\n",
    "    def __init__(self, make, model, year):\n",
    "        self.make = make\n",
    "        self.model = model\n",
    "        self.year = year\n",
    "\n",
    "    def start(self):\n",
    "        print(\"Starting the vehicle.\")\n",
    "\n",
    "    def display_info(self):\n",
    "        print(\"Make:\", self.make)\n",
    "        print(\"Model:\", self.model)\n",
    "        print(\"Year:\", self.year)\n",
    "\n",
    "\n",
    "class Car(Vehicle):\n",
    "    def __init__(self, make, model, year, fuel_type):\n",
    "        super().__init__(make, model, year)\n",
    "        self.fuel_type = fuel_type\n",
    "\n",
    "    def start(self):\n",
    "        super().start()\n",
    "        print(\"Car engine started.\")\n",
    "\n",
    "    def display_info(self):\n",
    "        super().display_info()\n",
    "        print(\"Fuel Type:\", self.fuel_type)\n",
    "\n",
    "\n",
    "# Creating an instance of the Car class\n",
    "car = Car(\"Ford\", \"Figo\", 2012, \"Diesel\")\n",
    "car.start()\n",
    "car.display_info()\n"
   ]
  },
  {
   "cell_type": "markdown",
   "id": "1e102081",
   "metadata": {},
   "source": [
    "7. Create a base class called \"Employee\" with attributes like \"name\" and \"salary.\" Derive two classes, \"Manager\" and \"Developer,\" from \"Employee.\" Add an additional attribute called \"department\" for the \"Manager\" class and \"programming_language\" for the \"Developer\" class."
   ]
  },
  {
   "cell_type": "code",
   "execution_count": 3,
   "id": "35d3ef22",
   "metadata": {},
   "outputs": [
    {
     "name": "stdout",
     "output_type": "stream",
     "text": [
      "Name: Subash Kedia\n",
      "Salary: 100000\n",
      "Department: Project Management\n",
      "\n",
      "\n",
      "Name: Kanchan Agrawal\n",
      "Salary: 85000\n",
      "Programming Language: Android\n"
     ]
    }
   ],
   "source": [
    "# Solution to question 7:\n",
    "class Employee:\n",
    "    def __init__(self, name, salary):\n",
    "        self.name = name\n",
    "        self.salary = salary\n",
    "\n",
    "    def display_info(self):\n",
    "        print(\"Name:\", self.name)\n",
    "        print(\"Salary:\", self.salary)\n",
    "\n",
    "\n",
    "class Manager(Employee):\n",
    "    def __init__(self, name, salary, department):\n",
    "        super().__init__(name, salary)\n",
    "        self.department = department\n",
    "\n",
    "    def display_info(self):\n",
    "        super().display_info()\n",
    "        print(\"Department:\", self.department)\n",
    "\n",
    "\n",
    "class Developer(Employee):\n",
    "    def __init__(self, name, salary, programming_language):\n",
    "        super().__init__(name, salary)\n",
    "        self.programming_language = programming_language\n",
    "\n",
    "    def display_info(self):\n",
    "        super().display_info()\n",
    "        print(\"Programming Language:\", self.programming_language)\n",
    "\n",
    "\n",
    "# Creating instances of Manager and Developer classes\n",
    "manager = Manager(\"Subash Kedia\", 100000, \"Project Management\")\n",
    "developer = Developer(\"Kanchan Agrawal\", 85000, \"Android\")\n",
    "\n",
    "# Calling display_info method for Manager and Developer instances\n",
    "manager.display_info()\n",
    "print(\"\\n\")\n",
    "developer.display_info()\n"
   ]
  },
  {
   "cell_type": "markdown",
   "id": "a97a8fbb",
   "metadata": {},
   "source": [
    "8. Design a base class called \"Shape\" with attributes like \"colour\" and \"border_width.\" Create derived classes, \"Rectangle\" and \"Circle,\" that inherit from \"Shape\" and addspecific attributes like \"length\" and \"width\" for the \"Rectangle\" class and \"radius\" for the \"Circle\" class."
   ]
  },
  {
   "cell_type": "code",
   "execution_count": 4,
   "id": "0490d455",
   "metadata": {},
   "outputs": [
    {
     "name": "stdout",
     "output_type": "stream",
     "text": [
      "Colour: Red\n",
      "Border Width: 2\n",
      "Length: 10\n",
      "Width: 5\n",
      "\n",
      "\n",
      "Colour: Blue\n",
      "Border Width: 1\n",
      "Radius: 7\n"
     ]
    }
   ],
   "source": [
    "#Solution to Question 8:\n",
    "class Shape:\n",
    "    def __init__(self, colour, border_width):\n",
    "        self.colour = colour\n",
    "        self.border_width = border_width\n",
    "\n",
    "    def display_info(self):\n",
    "        print(\"Colour:\", self.colour)\n",
    "        print(\"Border Width:\", self.border_width)\n",
    "\n",
    "\n",
    "class Rectangle(Shape):\n",
    "    def __init__(self, colour, border_width, length, width):\n",
    "        super().__init__(colour, border_width)\n",
    "        self.length = length\n",
    "        self.width = width\n",
    "\n",
    "    def display_info(self):\n",
    "        super().display_info()\n",
    "        print(\"Length:\", self.length)\n",
    "        print(\"Width:\", self.width)\n",
    "\n",
    "\n",
    "class Circle(Shape):\n",
    "    def __init__(self, colour, border_width, radius):\n",
    "        super().__init__(colour, border_width)\n",
    "        self.radius = radius\n",
    "\n",
    "    def display_info(self):\n",
    "        super().display_info()\n",
    "        print(\"Radius:\", self.radius)\n",
    "\n",
    "\n",
    "# Creating instances of Rectangle and Circle classes\n",
    "rectangle = Rectangle(\"Red\", 2, 10, 5)\n",
    "circle = Circle(\"Blue\", 1, 7)\n",
    "\n",
    "# Calling display_info method for Rectangle and Circle instances\n",
    "rectangle.display_info()\n",
    "print(\"\\n\")\n",
    "circle.display_info()"
   ]
  },
  {
   "cell_type": "markdown",
   "id": "71e8d391",
   "metadata": {},
   "source": [
    "9. Create a base class called \"Device\" with attributes like \"brand\" and \"model.\" Derive two classes, \"Phone\" and \"Tablet,\" from \"Device.\" Add specific attributes like \"screen_size\" for the \"Phone\" class and \"battery_capacity\" for the \"Tablet\" class."
   ]
  },
  {
   "cell_type": "code",
   "execution_count": 5,
   "id": "30dd3580",
   "metadata": {},
   "outputs": [
    {
     "name": "stdout",
     "output_type": "stream",
     "text": [
      "Brand: Apple\n",
      "Model: iPhone 12\n",
      "Screen Size: 6.1 inches\n",
      "\n",
      "\n",
      "Brand: Samsung\n",
      "Model: Galaxy Tab S7\n",
      "Battery Capacity: 8000 mAh\n"
     ]
    }
   ],
   "source": [
    "# Solution to question 9:\n",
    "class Device:\n",
    "    def __init__(self, brand, model):\n",
    "        self.brand = brand\n",
    "        self.model = model\n",
    "\n",
    "    def display_info(self):\n",
    "        print(\"Brand:\", self.brand)\n",
    "        print(\"Model:\", self.model)\n",
    "\n",
    "\n",
    "class Phone(Device):\n",
    "    def __init__(self, brand, model, screen_size):\n",
    "        super().__init__(brand, model)\n",
    "        self.screen_size = screen_size\n",
    "\n",
    "    def display_info(self):\n",
    "        super().display_info()\n",
    "        print(\"Screen Size:\", self.screen_size)\n",
    "\n",
    "\n",
    "class Tablet(Device):\n",
    "    def __init__(self, brand, model, battery_capacity):\n",
    "        super().__init__(brand, model)\n",
    "        self.battery_capacity = battery_capacity\n",
    "\n",
    "    def display_info(self):\n",
    "        super().display_info()\n",
    "        print(\"Battery Capacity:\", self.battery_capacity)\n",
    "\n",
    "\n",
    "# Creating instances of Phone and Tablet classes\n",
    "phone = Phone(\"Apple\", \"iPhone 12\", \"6.1 inches\")\n",
    "tablet = Tablet(\"Samsung\", \"Galaxy Tab S7\", \"8000 mAh\")\n",
    "\n",
    "# Calling display_info method for Phone and Tablet instances\n",
    "phone.display_info()\n",
    "print(\"\\n\")\n",
    "tablet.display_info()"
   ]
  },
  {
   "cell_type": "markdown",
   "id": "8fa785d5",
   "metadata": {},
   "source": [
    "10. Create a base class called \"BankAccount\" with attributes like \"account_number\" and \"balance.\" Derive two classes, \"SavingsAccount\" and \"CheckingAccount,\" from \"BankAccount.\" Add specific methods like \"calculate_interest\" for the \"SavingsAccount\" class and \"deduct_fees\" for the \"CheckingAccount\" class."
   ]
  },
  {
   "cell_type": "code",
   "execution_count": 7,
   "id": "01239a8b",
   "metadata": {},
   "outputs": [
    {
     "name": "stdout",
     "output_type": "stream",
     "text": [
      "Account Number: 9900436357\n",
      "Balance: 50000\n",
      "\n",
      "\n",
      "Account Number: 9886236550\n",
      "Balance: 30000\n",
      "\n",
      "\n",
      "Interest calculated. New balance: 52500.0\n",
      "Fees deducted. New balance: 29950\n"
     ]
    }
   ],
   "source": [
    "# Solution to question 10:\n",
    "class BankAccount:\n",
    "    def __init__(self, account_number, balance):\n",
    "        self.account_number = account_number\n",
    "        self.balance = balance\n",
    "\n",
    "    def display_info(self):\n",
    "        print(\"Account Number:\", self.account_number)\n",
    "        print(\"Balance:\", self.balance)\n",
    "\n",
    "\n",
    "class SavingsAccount(BankAccount):\n",
    "    def calculate_interest(self, interest_rate):\n",
    "        interest = self.balance * interest_rate\n",
    "        self.balance += interest\n",
    "        print(\"Interest calculated. New balance:\", self.balance)\n",
    "\n",
    "\n",
    "class CheckingAccount(BankAccount):\n",
    "    def deduct_fees(self, fee_amount):\n",
    "        self.balance -= fee_amount\n",
    "        print(\"Fees deducted. New balance:\", self.balance)\n",
    "\n",
    "\n",
    "# Creating instances of SavingsAccount and CheckingAccount classes\n",
    "savings_account = SavingsAccount(\"9900436357\", 50000)\n",
    "checking_account = CheckingAccount(\"9886236550\", 30000)\n",
    "\n",
    "# Calling display_info method for SavingsAccount and CheckingAccount instances\n",
    "savings_account.display_info()\n",
    "print(\"\\n\")\n",
    "checking_account.display_info()\n",
    "print(\"\\n\")\n",
    "\n",
    "# Calling calculate_interest method for SavingsAccount instance\n",
    "savings_account.calculate_interest(0.05)\n",
    "\n",
    "# Calling deduct_fees method for CheckingAccount instance\n",
    "checking_account.deduct_fees(50)\n"
   ]
  },
  {
   "cell_type": "code",
   "execution_count": null,
   "id": "527d97e1",
   "metadata": {},
   "outputs": [],
   "source": []
  }
 ],
 "metadata": {
  "kernelspec": {
   "display_name": "Python 3 (ipykernel)",
   "language": "python",
   "name": "python3"
  },
  "language_info": {
   "codemirror_mode": {
    "name": "ipython",
    "version": 3
   },
   "file_extension": ".py",
   "mimetype": "text/x-python",
   "name": "python",
   "nbconvert_exporter": "python",
   "pygments_lexer": "ipython3",
   "version": "3.10.9"
  }
 },
 "nbformat": 4,
 "nbformat_minor": 5
}
